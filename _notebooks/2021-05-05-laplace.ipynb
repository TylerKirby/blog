{
 "cells": [
  {
   "cell_type": "markdown",
   "metadata": {
    "pycharm": {
     "name": "#%% md\n"
    }
   },
   "source": [
    "# Laplace Approximation\n",
    "> Bayesian machine learning often requires working with posterior distributions that have no known closed form. There are plenty of approximation methods that exist, though they tend to be quite complex. This post provides an overview of the Laplace Approximation, an exceptionally simple approach that is seeing a resurgence in recent deep learning papers.\n",
    "\n",
    "- toc: true\n",
    "- comments: true\n",
    "- categories: [machine_learning]"
   ]
  },
  {
   "cell_type": "markdown",
   "metadata": {
    "pycharm": {
     "name": "#%% md\n"
    }
   },
   "source": [
    "Deep neural networks continue to solve problems that seemed out of reach of machine learning everyday. They offer unprecedented ability to generalize on high dimensional non-linear data and show promise in applications as far reaching as self-driving cars and automated radiological analysis. But as they are applied to high stakes problems like driving on the freeway and medical prognosis, limitations inherit to traditional deep learning algorithms like the inability to compute meaningful confidence scores easily and in a principled way become more clear. Bayesian neural networks seek to redress this by using proven probability methods to quantify uncertainty associated with inference. Unfortunately, these methods are usually much more mathematically complex and computationally intensive since they require working directly with continuous probability distributions. Recent research, however, has shown promising results by applying simpler techniques to modern neural networks like the Neurips 2021 paper, Laplace Redux - Effortless Bayesian Deep Learning, that utilizes the Laplace Approximation for fast and easy uncertainty estimates. This particular paper caught my eye since the Laplace Approximation was one of my favorite topics in graduate school. Most techniques for approximating posteriors are quite laborious and mathematically dense, but the Laplace Approximation is elegant in its simplicity and has found wide usage in standard implementations of key algorithms like Gaussian Process Classification. In this post I’ll review what the Neurips paper assumes the reader knows - why we need to approximate posteriors, how the Laplace Approximation generally works, and the importance of carefully implementations. The Laplace Approximation is an invaluable tool in the Bayesian toolbox and with this new paper it has become even more so.\n",
    "\n",
    "## Problematic Posteriors\n",
    "\n",
    "To better appreciate the utility of the Laplace Approximation, let’s consider some instances where it can be useful. Suppose we would like to use logistic regression in an instance where uncertainty estimates are crucial, e.g., a binary classifier of radiological data that determines whether a tumor is benign or cancerous. A positive result indicating that a tumor is in fact cancerous is a serious affair, so we should have an understanding as to how certain we are about the prognosis. We can use Bayes’ Theorem to formulate the problem appropriately. Logistic regression is a parametric model for classification, so our prior belief should relate to the weights and our likelihood should define the relationship between the inputs and outputs of our model. A reasonable prior belief for our weights is that they are Gaussian distributed. Since this is a binary classification problem, we want to constrain our output space to just 0 and 1 which means that both Bernoulli and Binomial distributions are candidates for our likelihood. No matter our choice, however, our posterior belief will be intractable since Gaussian priors are not conjugate with either Bernoulli or Binomial distributions.\n",
    "\n",
    "Suppose that after feeding our data to this logistic model we draw samples from the posterior which looks like this:"
   ]
  },
  {
   "cell_type": "code",
   "execution_count": 1,
   "metadata": {
    "pycharm": {
     "name": "#%%\n"
    }
   },
   "outputs": [
    {
     "data": {
      "text/plain": "Text(0, 0.5, 'Probability')"
     },
     "execution_count": 1,
     "metadata": {},
     "output_type": "execute_result"
    },
    {
     "data": {
      "text/plain": "<Figure size 432x288 with 1 Axes>",
      "image/png": "[encoded data removed]"
     },
     "metadata": {
      "needs_background": "light"
     },
     "output_type": "display_data"
    }
   ],
   "source": [
    "#hide_input\n",
    "\n",
    "from matplotlib import pyplot as plt\n",
    "import numpy as np\n",
    "\n",
    "np.random.seed(42)\n",
    "\n",
    "def logistic(z): return (1 + np.exp(-z)) ** -1\n",
    "\n",
    "def p(z): return np.exp((-z ** 2) / 2) * logistic(20 * z + 4)\n",
    "\n",
    "domain = np.linspace(-2, 4, 1000)\n",
    "probs = p(domain)\n",
    "\n",
    "plt.plot(domain, probs)\n",
    "plt.title(\"Plot of True Posterior\")\n",
    "plt.xlabel(\"Input Data\")\n",
    "plt.ylabel(\"Probability\")"
   ]
  },
  {
   "cell_type": "markdown",
   "source": [
    "The true closed form solution for the posterior above is {% fn 1 %}\n",
    "\n",
    "$$\n",
    "p(z) = \\exp(\\frac{-z^2}{2}) \\cdot (1 + \\exp(-20z-4))^{-1}\n",
    "$$"
   ],
   "metadata": {
    "collapsed": false,
    "pycharm": {
     "name": "#%% md\n"
    }
   }
  },
  {
   "cell_type": "markdown",
   "metadata": {
    "pycharm": {
     "name": "#%% md\n"
    }
   },
   "source": [
    "Unfortunately we will very rarely have direct access to the closed form solution for the posterior, so we must approximate. Enter: Pierre-Simon Laplace."
   ]
  },
  {
   "cell_type": "markdown",
   "metadata": {
    "pycharm": {
     "name": "#%% md\n"
    }
   },
   "source": [
    "## A Solution from Parisian Dice Parlors\n",
    "The Marquis de Laplace was a busy man. From his service to one Napoleon Bonaparte to his time frequenting gambling dens, there was no shortage of opportunities where Laplace needing to estimate the odds of an event. His contributions to the field of probability are almost unmatched: he rigorously formulated and popularized Bayes' Theorem, discovered probability generating functions, tied the least squares method to probability, and proved the central limit theorem which underpins the fields of statistics and probability today. But we are mostly concerned with a method developed in his 1774 manuscript *Mémoires de Mathématique et de Physique*.\n",
    "\n",
    "### Deriving the Laplace Approximation\n",
    "\n",
    "The Laplace Approximation is a very general method for working with integrals of the form\n",
    "$$\n",
    "\\int^a_b \\exp(M \\cdot f(x)) dx\n",
    "$$"
   ]
  },
  {
   "cell_type": "markdown",
   "metadata": {
    "pycharm": {
     "name": "#%% md\n"
    }
   },
   "source": [
    "where $M$ is some large number and $f(x)$ is at least twice differentiable.\n",
    "\n",
    "The basic idea is that we can use a Taylor series around the global maximum of the function as an approximation of the original intractable integral. Suppose that $f(x)$ has a global maximum around $x_0$ and that $x_0$ is not an endpoint. Then, using the first few terms of the Taylor series we have\n",
    "\n",
    "$$\n",
    "f(x) = f(x_0) + f'(x_0)(x-x_0) + \\frac{1}{2}f''(x_0)(x-x_0)^2\n",
    "$$"
   ]
  },
  {
   "cell_type": "markdown",
   "metadata": {
    "pycharm": {
     "name": "#%% md\n"
    }
   },
   "source": [
    "Knowing that $f(x_0)$ is a global maximum allows us to simplify a bit further since $f'(x_0)$ should be 0.\n",
    "\n",
    "$$\n",
    "f(x) \\approx f(x_0) - \\frac{1}{2}|f''(x_0)|(x-x_0)^2\n",
    "$$"
   ]
  },
  {
   "cell_type": "markdown",
   "metadata": {
    "pycharm": {
     "name": "#%% md\n"
    }
   },
   "source": [
    "If we plug this back into our original integral equation we have\n",
    "$$\n",
    "\\int^a_b \\exp(M \\cdot f(x)) dx \\approx \\int^a_b \\exp(M \\cdot f(x_0) - \\frac{1}{2}|f''(x_0)|(x-x_0)^2) dx\n",
    "$$"
   ]
  },
  {
   "cell_type": "markdown",
   "metadata": {
    "pycharm": {
     "name": "#%% md\n"
    }
   },
   "source": [
    "which further simplifies to\n",
    "$$\n",
    "\\exp(M f(x_0)) \\cdot \\int^a_b \\exp(- \\frac{1}{2}|f''(x_0)|(x-x_0)^2) dx\n",
    "$$"
   ]
  },
  {
   "cell_type": "markdown",
   "metadata": {
    "pycharm": {
     "name": "#%% md\n"
    }
   },
   "source": [
    "Recall that the Gaussian integral has the form\n",
    "\n",
    "$$\n",
    "\\int \\exp(-x)^2 dx = \\sqrt{pi}\n",
    "$$\n",
    "\n",
    "so assuming that the integral we're interested in is an indefinite integral as is the case with most probability density functions then the Laplace Approximation allows us to use the Gaussian integral as an approximation. Using the Gaussian integral we can reduce the above equation into the final formulation of Laplace Approximation:\n",
    "\n",
    "$$\n",
    "\\int^a_b \\exp(M \\cdot f(x)) dx \\approx \\sqrt{\\frac{2 \\pi}{M |f''(x_0)|)}}\\exp(Mf(x_0))\n",
    "$$"
   ]
  },
  {
   "cell_type": "markdown",
   "metadata": {
    "pycharm": {
     "name": "#%% md\n"
    }
   },
   "source": [
    "which improves in accuracy as $M \\rightarrow \\infty$."
   ]
  },
  {
   "cell_type": "markdown",
   "metadata": {
    "pycharm": {
     "name": "#%% md\n"
    }
   },
   "source": [
    "### A Simple Application\n",
    "\n",
    "As a brief aside, let's consider an application of the Laplace Approximation to a computer science problem. Suppose you wished to write a program to quickly compute $f(n) = n!$. Factorial equations are used all throughout physics, probability, and mathematics with practical uses in computing Bézier curves for computer graphics and time complexity equations for sorting algorithms.\n",
    "\n",
    "A naive solution may look like"
   ]
  },
  {
   "cell_type": "code",
   "execution_count": 2,
   "metadata": {
    "pycharm": {
     "name": "#%%\n"
    }
   },
   "outputs": [
    {
     "data": {
      "text/plain": "120"
     },
     "execution_count": 2,
     "metadata": {},
     "output_type": "execute_result"
    }
   ],
   "source": [
    "def factorial(n):\n",
    "    result = 1\n",
    "    for i in range(1, n+1):\n",
    "        result *= i\n",
    "    return result\n",
    "\n",
    "factorial(5)"
   ]
  },
  {
   "cell_type": "markdown",
   "metadata": {
    "pycharm": {
     "name": "#%% md\n"
    }
   },
   "source": [
    "If we needed to run this function on very large integers thousands of times a second which may often be the case esperically in computer graphics, then we need this code to be especially fast. Multiplying increasing large integers in a for loop will probably become a bottleneck rather quickly, so this is a good opportunity to apply an approximation. Let's begin with the similar and useful Gamma function:\n",
    "\n",
    "$$\n",
    "\\Gamma(n) = (n-1)! = \\int_0^{\\infty} \\exp(-x) x^{n-1} dx\n",
    "$$"
   ]
  },
  {
   "cell_type": "markdown",
   "metadata": {
    "pycharm": {
     "name": "#%% md\n"
    }
   },
   "source": [
    "Our factorial equation can then be written as\n",
    "\n",
    "$$\n",
    "n! = \\Gamma(n + 1) = \\int_0^{\\infty} \\exp(-x)x^ndx\n",
    "$$"
   ]
  },
  {
   "cell_type": "markdown",
   "metadata": {
    "pycharm": {
     "name": "#%% md\n"
    }
   },
   "source": [
    "By performing a change of variables so that $x = nz$ and $dx = n dz$ we can derive the following"
   ]
  },
  {
   "cell_type": "markdown",
   "metadata": {
    "pycharm": {
     "name": "#%% md\n"
    }
   },
   "source": [
    "$$\n",
    "= \\int_0^{\\infty} \\exp(-nz) (nz)^n n dz \\\\\n",
    "= n^{n+1} \\int_0^{\\infty} \\exp(-nz)z^n dz \\\\\n",
    "= n^{n+1} \\int_0^{\\infty} \\exp(-nz) \\exp(n \\ln z) dz \\\\\n",
    "= n^{n+1} \\int_0^{\\infty} \\exp(n (\\ln z - z)) dz\n",
    "$$"
   ]
  },
  {
   "cell_type": "markdown",
   "metadata": {
    "pycharm": {
     "name": "#%% md\n"
    }
   },
   "source": [
    "Note that the final integral above has the form required for the Laplace Approximation: $\\int^a_b \\exp(M \\cdot f(x)) dx$ since $f(z) = \\ln z - z$ is twice differentiable. Recall that as $M \\rightarrow \\infty$, the approximation is more accurate so our final approximation of the factorial equation above will be more accurate for larger choices of $n$.\n",
    "\n",
    "Using the Laplace approximation, we arrive at Stirling's Approximation for computing factorials:\n",
    "\n",
    "$$\n",
    "\\int^a_b \\exp(M \\cdot f(x)) dx \\approx \\sqrt{\\frac{2 \\pi}{M |f''(x_0)|)}}\\exp(Mf(x_0))\\\\\n",
    "n^{n+1} \\int_0^{\\infty} \\exp(n (\\ln z - z)) dz \\approx n^{n+1} \\sqrt{\\frac{2 \\pi}{n |f''(x_0)|}}\\exp(n f(x_0))\n",
    "$$"
   ]
  },
  {
   "cell_type": "markdown",
   "metadata": {
    "pycharm": {
     "name": "#%% md\n"
    }
   },
   "source": [
    "$f(z) = \\ln z - z$, so $f'(z) = \\frac{1}{z} - 1$ and $f''(z) = -\\frac{1}{z^2}$. The max of $f(z)$ is found at $z=1$, so $f(z_0=1) = -1$ and $f''(z_0 = 1) = -1$ as well. With this we arrive at the final approximation:"
   ]
  },
  {
   "cell_type": "markdown",
   "metadata": {
    "pycharm": {
     "name": "#%% md\n"
    }
   },
   "source": [
    "$$\n",
    "n! \\approx n^{n+1} \\sqrt{\\frac{2 \\pi}{n}}e^{-n}\n",
    "$$"
   ]
  },
  {
   "cell_type": "markdown",
   "metadata": {
    "pycharm": {
     "name": "#%% md\n"
    }
   },
   "source": [
    "which in Python would be"
   ]
  },
  {
   "cell_type": "code",
   "execution_count": 3,
   "metadata": {
    "pycharm": {
     "name": "#%%\n"
    }
   },
   "outputs": [
    {
     "data": {
      "text/plain": "118.01916795759008"
     },
     "execution_count": 3,
     "metadata": {},
     "output_type": "execute_result"
    }
   ],
   "source": [
    "def stirling_approx(n):\n",
    "    return (n ** (n+1)) * (np.sqrt((2 * np.pi) / n)) * np.exp(-n)\n",
    "stirling_approx(5)"
   ]
  },
  {
   "cell_type": "markdown",
   "metadata": {
    "pycharm": {
     "name": "#%% md\n"
    }
   },
   "source": [
    "The error between the actual and approximation is"
   ]
  },
  {
   "cell_type": "code",
   "execution_count": 4,
   "metadata": {
    "pycharm": {
     "name": "#%%\n"
    }
   },
   "outputs": [
    {
     "data": {
      "text/plain": "0.08099564851101682"
     },
     "execution_count": 4,
     "metadata": {},
     "output_type": "execute_result"
    }
   ],
   "source": [
    "factorial(2) - stirling_approx(2)"
   ]
  },
  {
   "cell_type": "markdown",
   "metadata": {
    "pycharm": {
     "name": "#%% md\n"
    }
   },
   "source": [
    "## Returning to Uncertainty\n",
    "Now that we've covered the mechanics of the Laplace Approximation and applied it to the simple factorial problem, let's return to the original context and see how this method applies to the original issue of approximating a posterior.\n",
    "\n",
    "To approximate our posterior, we need to know 1) at which point the probability density function is maximized, i.e., the mode of the posterior and then 2) we need to evaluate that point with the second derivative of the probability density function. If we were approximating a multivariate distribution, this then becomes slightly more complex by requiring us to determine the Hessian matrix for the posterior.\n",
    "\n",
    "Find the mode of a distribution is typically straightforward. If we are working in a model context like Bayesian logistic regression then we can typically compute the *maximum a posteriori* (MAP) estimate directly. Otherwise, we can sample the distribution to determine the mode. Note however that distributions of higher dimensions cannot be sampled efficiently so it is ideal generally to work in a known framework where MAP estimation is relatively easy.\n",
    "\n",
    "Second derivatives and Hessians unfortunately are more difficult to determine though thankfully this is changing. When working in a known framework like Bayesian logistic regression then it is usually possible to find the necessary derivatives from the loss function either directly or with a numerical method like Newton's method. These tend to be quite compute expensive, but there have been a lot of recent advances that make this process much more efficient.{% fn 2 %}\n",
    "\n",
    "Finally, let's take another look at that tricky posterior from earlier:"
   ]
  },
  {
   "cell_type": "code",
   "execution_count": 5,
   "metadata": {
    "pycharm": {
     "name": "#%%\n"
    }
   },
   "outputs": [
    {
     "data": {
      "text/plain": "<matplotlib.legend.Legend at 0x11670cd60>"
     },
     "execution_count": 5,
     "metadata": {},
     "output_type": "execute_result"
    },
    {
     "data": {
      "text/plain": "<Figure size 432x288 with 1 Axes>",
      "image/png": "[encoded data removed]"
     },
     "metadata": {
      "needs_background": "light"
     },
     "output_type": "display_data"
    }
   ],
   "source": [
    "#hide_input\n",
    "\n",
    "plt.plot(domain, probs, label=\"p(z)\")\n",
    "plt.title(\"Plot of True Posterior\")\n",
    "plt.xlabel(\"Input Data\")\n",
    "plt.ylabel(\"Probability\")\n",
    "plt.legend()"
   ]
  },
  {
   "cell_type": "markdown",
   "source": [
    "We essentially want to find a PDF $q(z)$ to approximate our unknown $p(z)$ above. In the context of continuous probability distributions, we typically prefer to work with the negative log likelihood since it is much easier to use in an optimization context. Let us revisit our derivation of the Laplace Approximation to consider $\\ln f(x)$ rather than simply $f(x)$. The Taylor approximation is then\n",
    "$$\n",
    "\\ln f(x) \\approx \\ln f(x_0) -\\frac{1}{2} [-\\frac{d^2}{dx^2}\\ln f(x_0)] (x-x_0)^2\n",
    "$$\n",
    "Exponetiating the above leads to\n",
    "$$\n",
    "\\exp(\\n f(x)) \\approx (SEE PRML pg 214)\n",
    "$$\n",
    "\n",
    "We will suppose that we are able to sample the posterior to determine the mode and that we have access to the posterior PDF so that we can numerically compute the second derivative at that point. Below we sample uniformly to determine the mode."
   ],
   "metadata": {
    "collapsed": false,
    "pycharm": {
     "name": "#%% md\n"
    }
   }
  },
  {
   "cell_type": "code",
   "execution_count": 6,
   "outputs": [
    {
     "data": {
      "text/plain": "<matplotlib.legend.Legend at 0x116737b80>"
     },
     "execution_count": 6,
     "metadata": {},
     "output_type": "execute_result"
    },
    {
     "data": {
      "text/plain": "<Figure size 432x288 with 1 Axes>",
      "image/png": "[encoded data removed]"
     },
     "metadata": {
      "needs_background": "light"
     },
     "output_type": "display_data"
    }
   ],
   "source": [
    "#hide_input\n",
    "samples = np.random.uniform(-2, 4, 100)\n",
    "plt.plot(domain, probs, label=\"p(z)\")\n",
    "plt.title(\"Plot of True Posterior\")\n",
    "plt.xlabel(\"Input Data\")\n",
    "plt.ylabel(\"Probability\")\n",
    "plt.scatter(samples, np.zeros(100), label=\"Samples\", marker=\"|\", color=\"r\")\n",
    "plt.legend()"
   ],
   "metadata": {
    "collapsed": false,
    "pycharm": {
     "name": "#%%\n"
    }
   }
  },
  {
   "cell_type": "code",
   "execution_count": 7,
   "outputs": [
    {
     "name": "stdout",
     "output_type": "stream",
     "text": [
      "z_0 = 0.1405\n",
      "p(z_0) = 0.9891\n"
     ]
    }
   ],
   "source": [
    "sampled = p(samples)\n",
    "max_point = round(samples[np.argmax(sampled)], 4)\n",
    "print(\"z_0 =\", max_point)\n",
    "print(\"p(z_0) =\", round(p(max_point), 4))"
   ],
   "metadata": {
    "collapsed": false,
    "pycharm": {
     "name": "#%%\n"
    }
   }
  },
  {
   "cell_type": "markdown",
   "source": [
    "Now we approximate $\\frac{d^2 p}{dz^2}$ at $z_0$. For this example, we'll just use `scipy.misc.derivative` which is an implementation of the central difference equation for approximation.{% fn 3 %}"
   ],
   "metadata": {
    "collapsed": false,
    "pycharm": {
     "name": "#%% md\n"
    }
   }
  },
  {
   "cell_type": "code",
   "execution_count": 8,
   "outputs": [
    {
     "name": "stdout",
     "output_type": "stream",
     "text": [
      "Approximated second derivative:  -1.41\n"
     ]
    }
   ],
   "source": [
    "from scipy.misc import derivative\n",
    "\n",
    "approx_sec_deriv = derivative(p, 0.1405, dx=1e-6, n=2)\n",
    "print(\"Approximated second derivative: \", round(approx_sec_deriv, 4))"
   ],
   "metadata": {
    "collapsed": false,
    "pycharm": {
     "name": "#%%\n"
    }
   }
  },
  {
   "cell_type": "markdown",
   "source": [],
   "metadata": {
    "collapsed": false,
    "pycharm": {
     "name": "#%% md\n"
    }
   }
  },
  {
   "cell_type": "markdown",
   "metadata": {
    "pycharm": {
     "name": "#%% md\n"
    }
   },
   "source": [
    "## Footnotes\n",
    "{{ This example can be found on pg 215 *Pattern Recognition and Machine Learning* by Christopher Bishop | fndetail: 1 }}\n",
    "{{ One of the most popular recent methods for approximating Hessian matrices is the Kronecker-factored Approximate Curvature (K-FAC) approach detailed in [2015 Martens, Grosse](https://arxiv.org/abs/1503.05671). A implementation in TensorFlow can be found [here](https://github.com/tensorflow/kfac). | fndetail: 2 }}\n",
    "{{ See [this chapter](https://personal.math.ubc.ca/~pwalls/math-python/differentiation/differentiation/) in Patrick Walls's *Mathematical Python* for more details.| fndetail: 3 }}"
   ]
  },
  {
   "cell_type": "code",
   "execution_count": 8,
   "metadata": {
    "pycharm": {
     "name": "#%%\n"
    }
   },
   "outputs": [],
   "source": []
  }
 ],
 "metadata": {
  "kernelspec": {
   "display_name": "Python 3 (ipykernel)",
   "language": "python",
   "name": "python3"
  },
  "language_info": {
   "codemirror_mode": {
    "name": "ipython",
    "version": 3
   },
   "file_extension": ".py",
   "mimetype": "text/x-python",
   "name": "python",
   "nbconvert_exporter": "python",
   "pygments_lexer": "ipython3",
   "version": "3.8.5"
  },
  "varInspector": {
   "cols": {
    "lenName": 16,
    "lenType": 16,
    "lenVar": 40
   },
   "kernels_config": {
    "python": {
     "delete_cmd_postfix": "",
     "delete_cmd_prefix": "del ",
     "library": "var_list.py",
     "varRefreshCmd": "print(var_dic_list())"
    },
    "r": {
     "delete_cmd_postfix": ") ",
     "delete_cmd_prefix": "rm(",
     "library": "var_list.r",
     "varRefreshCmd": "cat(var_dic_list()) "
    }
   },
   "types_to_exclude": [
    "module",
    "function",
    "builtin_function_or_method",
    "instance",
    "_Feature"
   ],
   "window_display": false
  }
 },
 "nbformat": 4,
 "nbformat_minor": 4
}